{
  "nbformat": 4,
  "nbformat_minor": 0,
  "metadata": {
    "colab": {
      "provenance": []
    },
    "kernelspec": {
      "name": "python3",
      "display_name": "Python 3"
    },
    "language_info": {
      "name": "python"
    }
  },
  "cells": [
    {
      "cell_type": "code",
      "execution_count": 2,
      "metadata": {
        "colab": {
          "base_uri": "https://localhost:8080/"
        },
        "id": "ffBJ5ikwa9Zf",
        "outputId": "240ae51d-939d-4db6-fede-f9ff590aa7a0"
      },
      "outputs": [
        {
          "output_type": "stream",
          "name": "stderr",
          "text": [
            "<ipython-input-2-2eefd6d7b592>:5: DtypeWarning: Columns (542,544,553,555,557,559,560,564,568,572,573,576,577,579,581,582,583,585,591,595,596,597,598,603,607,609,613,617,619,621,623,624,626,629,631,633,634,635,638,639,645,646,648,649,650,651,652,653,654,655,656,658,659,666,668,670,672,674,675,676,679,680,682,683,687,689,690,693,694,696,700,701,705,707,708,709,713,733,735,738,739,740,741,742,743,747,748,751,752,753,754,758,759,761,762,763,765,786,793,795,798,799,800,806,807,808,809,810,811,814,817,818,821,823,824,825,826,834,835,836,837,840,842,849,850,853,855,856,857,858,859,863,864,865,866,875,876,878,879,888,890,891,892,896,899,900,901,902,909,910,911,912,913,914,916,917,918,920,921,922,923,924,925,926,927,928,929,930,931,933,934,935,936,937,938,939,955,956,957,958,967,968,969,970,971,972,973,974,975,976,977,978,979,980,981,982,983,984,985,986,987,988,989,991,992,994,995,996,997,1019,1026,1027,1029,1032,1033,1038,1039,1042,1043,1044,1045,1046,1047,1048,1049,1050,1051,1053,1055,1057,1059,1061,1062,1070,1078,1095,1097,1098,1099,1101,1102,1104,1105,1109,1114,1115,1127,1134,1135,1136,1137,1139,1140,1141,1142,1143,1148,1156,1157,1158,1162,1164,1166,1168,1169,1173,1182,1183,1185,1186,1187,1193,1194,1196,1197,1198,1199,1200,1201,1202,1203,1206,1207,1209,1210,1212,1213,1215,1216,1217,1218,1220,1221,1226,1227,1229,1231,1232,1233,1235,1236,1239,1241,1242,1245,1246,1247,1248,1249,1250,1251,1252,1253,1254,1255,1256,1257,1258,1259,1261,1262,1265,1266,1267,1275,1282,1283,1284,1285,1287,1290,1292,1293,1294,1295,1296,1297,1298,1299,1300,1301,1302,1304,1305,1306,1307,1308,1309,1310,1313,1314,1315,1321,1336,1339,1340,1348,1349,1352,1357,1364,1369,1371,1372,1373,1376,1386,1397,1398,1402,1408,1409,1418,1419,1420,1422,1423,1428,1431,1433,1465,1466,1468,1469,1470,1471,1474,1475,1476,1478,1479,1484,1485,1486,1487,1488,1489,1490,1491,1515,1518,1523,1524,1525,1526,1527,1528,1529,1530,1531,1532,1534,1535,1536,1537,1538,1539,1540,1541,1542,1543,1550,1557,1559,1560,1563,1568,1572,1593,1595,1603,1634,1639,1640,1652,1654,1659,1660,1661,1662,1664,1665,1666,1667,1668,1672,1673,1674,1675,1676,1681,1682,1683,1687,1688,1691,1693,1694,1698,1707,1711,1712,1714,1718,1719,1722,1723,1724,1725,1726,1727,1728,1731,1732,1734,1735,1737,1738,1740,1741,1743,1744,1745,1746,1748,1751,1752,1754,1756,1757,1758,1759,1764,1784,1810,1819,1820,1821,1822,1823,1824,1825,1826,1827,1829,1830,1831,1832,1833,1834,1841,1844,1846,1865,1874,1877,1878,1882,1884,1889,1901,1911,1920,1922,1923,1927,1933,1934,1943,1944,1945,1947,1953,1956,1958,2000,2004,2012,2013,2014,2016,2040,2043,2048,2049,2050,2051,2052,2053,2054,2055,2056,2057,2059,2060,2061,2062,2063,2064,2065,2066,2067,2068,2075,2082,2084,2089,2094,2108,2109) have mixed types. Specify dtype option on import or set low_memory=False.\n",
            "  df = pd.read_csv('data.csv')\n"
          ]
        },
        {
          "output_type": "stream",
          "name": "stdout",
          "text": [
            "       ROW_ID_x  SUBJECT_ID  HADM_ID  SEQ_NUM ICD9_CODE  ROW_ID_y  \\\n",
            "86            7           3   145834      4.0      4275      4466   \n",
            "88           44           9   150750      3.0      4280      4473   \n",
            "89           56          12   112213      3.0      9971     12365   \n",
            "91           63          13   143045      1.0     41401      4374   \n",
            "93           81          17   194023      1.0      7455      7314   \n",
            "...         ...         ...      ...      ...       ...       ...   \n",
            "10060     66500        5908   104067      4.0      V433     11950   \n",
            "9161      66601        5909   175121      1.0     42781      4470   \n",
            "9186      66635        5910   143682      1.0      4280      4473   \n",
            "9195      66712        5913   173921      9.0     41401      4374   \n",
            "9197      66729        5917   101439      1.0     41401      4374   \n",
            "\n",
            "                    SHORT_TITLE  \\\n",
            "86               Cardiac arrest   \n",
            "88                      CHF NOS   \n",
            "89             Surg compl-heart   \n",
            "91     Crnry athrscl natve vssl   \n",
            "93     Secundum atrial sept def   \n",
            "...                         ...   \n",
            "10060    Heart valve replac NEC   \n",
            "9161   Sinoatrial node dysfunct   \n",
            "9186                    CHF NOS   \n",
            "9195   Crnry athrscl natve vssl   \n",
            "9197   Crnry athrscl natve vssl   \n",
            "\n",
            "                                              LONG_TITLE  ROW_ID GENDER  ...  \\\n",
            "86                                        Cardiac arrest       2      M  ...   \n",
            "88                 Congestive heart failure, unspecified       8      M  ...   \n",
            "89       Cardiac complications, not elsewhere classified      11      M  ...   \n",
            "91     Coronary atherosclerosis of native coronary ar...      12      F  ...   \n",
            "93             Ostium secundum type atrial septal defect      14      F  ...   \n",
            "...                                                  ...     ...    ...  ...   \n",
            "10060                Heart valve replaced by other means    5596      F  ...   \n",
            "9161                         Sinoatrial node dysfunction    5597      M  ...   \n",
            "9186               Congestive heart failure, unspecified    5598      M  ...   \n",
            "9195   Coronary atherosclerosis of native coronary ar...    5600      F  ...   \n",
            "9197   Coronary atherosclerosis of native coronary ar...    5603      M  ...   \n",
            "\n",
            "      51510_FLAG 51512_FLAG 51513_FLAG 51514_FLAG  51515_FLAG  51516_FLAG  \\\n",
            "86           NaN        NaN        NaN        NaN         NaN    abnormal   \n",
            "88           NaN        NaN        NaN        NaN         NaN         NaN   \n",
            "89           NaN        NaN        NaN        NaN         NaN         NaN   \n",
            "91           NaN        NaN        NaN        NaN         NaN         NaN   \n",
            "93           NaN        NaN        NaN        NaN         NaN         NaN   \n",
            "...          ...        ...        ...        ...         ...         ...   \n",
            "10060        NaN        NaN        NaN        NaN         NaN         NaN   \n",
            "9161         NaN        NaN        NaN        NaN         NaN         NaN   \n",
            "9186         NaN        NaN        NaN        NaN         NaN         NaN   \n",
            "9195         NaN        NaN        NaN        NaN         NaN    abnormal   \n",
            "9197         NaN        NaN        NaN        NaN         NaN         NaN   \n",
            "\n",
            "       51517_FLAG  51518_FLAG  51519_FLAG  51523_FLAG  \n",
            "86            NaN         NaN         NaN         NaN  \n",
            "88            NaN         NaN         NaN         NaN  \n",
            "89            NaN         NaN         NaN         NaN  \n",
            "91            NaN         NaN         NaN         NaN  \n",
            "93            NaN         NaN         NaN         NaN  \n",
            "...           ...         ...         ...         ...  \n",
            "10060         NaN         NaN         NaN         NaN  \n",
            "9161          NaN         NaN         NaN         NaN  \n",
            "9186          NaN         NaN         NaN         NaN  \n",
            "9195          NaN         NaN         NaN         NaN  \n",
            "9197          NaN         NaN         NaN         NaN  \n",
            "\n",
            "[2817 rows x 2115 columns]\n"
          ]
        }
      ],
      "source": [
        "import pandas as pd\n",
        "\n",
        "# Assuming your data is in a CSV file named 'data.csv'\n",
        "# Load the data into a DataFrame\n",
        "df = pd.read_csv('data.csv')\n",
        "\n",
        "# Sort the DataFrame by SUBJECT_ID and HADM_ID in descending order\n",
        "df_sorted = df.sort_values(by=['SUBJECT_ID', 'HADM_ID'], ascending=[True, False])\n",
        "\n",
        "# Drop duplicates based on SUBJECT_ID, keeping the first occurrence (which has the largest HADM_ID)\n",
        "df_unique = df_sorted.drop_duplicates(subset=['SUBJECT_ID'], keep='first')\n",
        "\n",
        "# Save the result to a new CSV file (optional)\n",
        "df_unique.to_csv('unique_data.csv', index=False)\n",
        "\n",
        "# Display the resulting DataFrame\n",
        "print(df_unique)"
      ]
    },
    {
      "cell_type": "code",
      "source": [
        "import pandas as pd\n",
        "\n",
        "# Assuming your data is already loaded into a DataFrame called df_unique\n",
        "# Filter columns with the suffix \"_VALUENUM\"\n",
        "valuenum_columns = [col for col in df_unique.columns if col.endswith('_VALUENUM')]\n",
        "\n",
        "# Count non-null values in each of these columns\n",
        "valuenum_counts = df_unique[valuenum_columns].count()\n",
        "\n",
        "# Display the counts\n",
        "print(valuenum_counts)"
      ],
      "metadata": {
        "colab": {
          "base_uri": "https://localhost:8080/"
        },
        "id": "0nwkbLL8b2vG",
        "outputId": "9bdb7e99-c407-45a5-fda3-a84685925c4c"
      },
      "execution_count": 3,
      "outputs": [
        {
          "output_type": "stream",
          "name": "stdout",
          "text": [
            "50800_VALUENUM       0\n",
            "50801_VALUENUM     438\n",
            "50802_VALUENUM    1640\n",
            "50803_VALUENUM     153\n",
            "50804_VALUENUM    1640\n",
            "                  ... \n",
            "51516_VALUENUM     426\n",
            "51517_VALUENUM       0\n",
            "51518_VALUENUM       0\n",
            "51519_VALUENUM       3\n",
            "51523_VALUENUM       0\n",
            "Length: 525, dtype: int64\n"
          ]
        }
      ]
    },
    {
      "cell_type": "code",
      "source": [
        "import pandas as pd\n",
        "\n",
        "# Load the CSV file into a DataFrame\n",
        "\n",
        "\n",
        "# Get the total number of rows and columns\n",
        "total_rows, total_columns = df_unique.shape\n",
        "\n",
        "# Display the results\n",
        "print(f\"Total rows in the CSV: {total_rows}\")\n",
        "print(f\"Total columns in the CSV: {total_columns}\")"
      ],
      "metadata": {
        "colab": {
          "base_uri": "https://localhost:8080/"
        },
        "id": "Vl2ebrXgcYdb",
        "outputId": "5cd183e9-5806-4eda-9cb1-d40035f28062"
      },
      "execution_count": 8,
      "outputs": [
        {
          "output_type": "stream",
          "name": "stdout",
          "text": [
            "Total rows in the CSV: 2817\n",
            "Total columns in the CSV: 2115\n"
          ]
        }
      ]
    },
    {
      "cell_type": "code",
      "source": [
        "import pandas as pd\n",
        "\n",
        "# Assuming df_unique is already defined\n",
        "# Step 1: Identify _VALUENUM columns with more than 500 non-null values\n",
        "valuenum_columns = [col for col in df_unique.columns if col.endswith('_VALUENUM')]\n",
        "valuenum_counts = df_unique[valuenum_columns].count()\n",
        "selected_valuenum_cols = valuenum_counts[valuenum_counts > 500].index.tolist()\n",
        "\n",
        "# Step 2: Extract corresponding _VALUEOOM, _FLAG, and _VALUE columns\n",
        "selected_cols = []\n",
        "for col in selected_valuenum_cols:\n",
        "    prefix = col.replace('_VALUENUM', '')  # Remove '_VALUENUM' to get the prefix\n",
        "    valueom_col = prefix + '_VALUEOOM'  # Construct _VALUEOOM column name\n",
        "    flag_col = prefix + '_FLAG'  # Construct _FLAG column name\n",
        "    value_col = prefix + '_VALUE'  # Construct _VALUE column name\n",
        "\n",
        "    # Check if these columns exist in the DataFrame\n",
        "    if valueom_col in df_unique.columns:\n",
        "        selected_cols.append(valueom_col)\n",
        "    if flag_col in df_unique.columns:\n",
        "        selected_cols.append(flag_col)\n",
        "    if value_col in df_unique.columns:\n",
        "        selected_cols.append(value_col)\n",
        "\n",
        "# Combine selected _VALUENUM, _VALUEOOM, _FLAG, and _VALUE columns\n",
        "final_cols = selected_valuenum_cols + selected_cols\n",
        "\n",
        "# Step 3: Create a new DataFrame with only these columns\n",
        "df_filtered = df_unique[final_cols]\n",
        "\n",
        "# Display the resulting DataFrame\n",
        "print(df_filtered.head())"
      ],
      "metadata": {
        "colab": {
          "base_uri": "https://localhost:8080/"
        },
        "id": "3QkbstxccoPm",
        "outputId": "f9f1c64f-caa3-4dde-80fd-97f8f8b1747b"
      },
      "execution_count": 14,
      "outputs": [
        {
          "output_type": "stream",
          "name": "stdout",
          "text": [
            "    50802_VALUENUM  50804_VALUENUM  50808_VALUENUM  50809_VALUENUM  \\\n",
            "86       -6.000000       18.454545        1.031429      253.000000   \n",
            "88        0.333333       27.000000        1.065000      167.500000   \n",
            "89      -12.846154       14.538462        1.056000      143.142857   \n",
            "91       -1.000000       23.333333        1.132500      167.000000   \n",
            "93       -3.000000       24.750000        1.217500      124.333333   \n",
            "\n",
            "    50810_VALUENUM  50811_VALUENUM  50813_VALUENUM  50816_VALUENUM  \\\n",
            "86       29.500000        9.850000        4.871429            60.0   \n",
            "88       42.000000       14.000000        2.333333            60.0   \n",
            "89       29.444444        9.777778        7.655556            50.0   \n",
            "91       29.000000        9.600000             NaN             NaN   \n",
            "93       32.250000       10.775000             NaN            50.0   \n",
            "\n",
            "    50817_VALUENUM  50818_VALUENUM  ...  51277_FLAG  51277_VALUE  51279_FLAG  \\\n",
            "86            75.9       30.727273  ...         NaN          NaN    abnormal   \n",
            "88             NaN       41.333333  ...         NaN          NaN    abnormal   \n",
            "89            98.0       34.769231  ...         NaN          NaN    abnormal   \n",
            "91             NaN       36.166667  ...         NaN          NaN    abnormal   \n",
            "93            99.0       57.375000  ...         NaN          NaN    abnormal   \n",
            "\n",
            "    51279_VALUE  51301_FLAG  51301_VALUE  51491_FLAG  51491_VALUE  51498_FLAG  \\\n",
            "86          NaN    abnormal          NaN         NaN          NaN         NaN   \n",
            "88          NaN    abnormal          NaN         NaN          NaN         NaN   \n",
            "89          NaN    abnormal          NaN         NaN          NaN         NaN   \n",
            "91          NaN    abnormal          NaN         NaN          NaN         NaN   \n",
            "93          NaN    abnormal          NaN         NaN          NaN         NaN   \n",
            "\n",
            "    51498_VALUE  \n",
            "86          NaN  \n",
            "88          NaN  \n",
            "89          NaN  \n",
            "91          NaN  \n",
            "93          NaN  \n",
            "\n",
            "[5 rows x 183 columns]\n"
          ]
        }
      ]
    },
    {
      "cell_type": "code",
      "source": [
        "df_filled = df_filtered.copy()\n",
        "for col in valuenum_columns:\n",
        "    df_filled[col] = df_filled[col].fillna(column_means[col])"
      ],
      "metadata": {
        "colab": {
          "base_uri": "https://localhost:8080/",
          "height": 616
        },
        "id": "1uOlaULKd5p-",
        "outputId": "8be0e82e-981f-4ccb-c760-4eebcd02ace0"
      },
      "execution_count": 13,
      "outputs": [
        {
          "output_type": "error",
          "ename": "KeyError",
          "evalue": "'50800_VALUENUM'",
          "traceback": [
            "\u001b[0;31m---------------------------------------------------------------------------\u001b[0m",
            "\u001b[0;31mKeyError\u001b[0m                                  Traceback (most recent call last)",
            "\u001b[0;32m/usr/local/lib/python3.11/dist-packages/pandas/core/indexes/base.py\u001b[0m in \u001b[0;36mget_loc\u001b[0;34m(self, key)\u001b[0m\n\u001b[1;32m   3804\u001b[0m         \u001b[0;32mtry\u001b[0m\u001b[0;34m:\u001b[0m\u001b[0;34m\u001b[0m\u001b[0;34m\u001b[0m\u001b[0m\n\u001b[0;32m-> 3805\u001b[0;31m             \u001b[0;32mreturn\u001b[0m \u001b[0mself\u001b[0m\u001b[0;34m.\u001b[0m\u001b[0m_engine\u001b[0m\u001b[0;34m.\u001b[0m\u001b[0mget_loc\u001b[0m\u001b[0;34m(\u001b[0m\u001b[0mcasted_key\u001b[0m\u001b[0;34m)\u001b[0m\u001b[0;34m\u001b[0m\u001b[0;34m\u001b[0m\u001b[0m\n\u001b[0m\u001b[1;32m   3806\u001b[0m         \u001b[0;32mexcept\u001b[0m \u001b[0mKeyError\u001b[0m \u001b[0;32mas\u001b[0m \u001b[0merr\u001b[0m\u001b[0;34m:\u001b[0m\u001b[0;34m\u001b[0m\u001b[0;34m\u001b[0m\u001b[0m\n",
            "\u001b[0;32mindex.pyx\u001b[0m in \u001b[0;36mpandas._libs.index.IndexEngine.get_loc\u001b[0;34m()\u001b[0m\n",
            "\u001b[0;32mindex.pyx\u001b[0m in \u001b[0;36mpandas._libs.index.IndexEngine.get_loc\u001b[0;34m()\u001b[0m\n",
            "\u001b[0;32mpandas/_libs/hashtable_class_helper.pxi\u001b[0m in \u001b[0;36mpandas._libs.hashtable.PyObjectHashTable.get_item\u001b[0;34m()\u001b[0m\n",
            "\u001b[0;32mpandas/_libs/hashtable_class_helper.pxi\u001b[0m in \u001b[0;36mpandas._libs.hashtable.PyObjectHashTable.get_item\u001b[0;34m()\u001b[0m\n",
            "\u001b[0;31mKeyError\u001b[0m: '50800_VALUENUM'",
            "\nThe above exception was the direct cause of the following exception:\n",
            "\u001b[0;31mKeyError\u001b[0m                                  Traceback (most recent call last)",
            "\u001b[0;32m<ipython-input-13-cd54bbc3f2d5>\u001b[0m in \u001b[0;36m<cell line: 0>\u001b[0;34m()\u001b[0m\n\u001b[1;32m      1\u001b[0m \u001b[0mdf_filled\u001b[0m \u001b[0;34m=\u001b[0m \u001b[0mdf_filtered\u001b[0m\u001b[0;34m.\u001b[0m\u001b[0mcopy\u001b[0m\u001b[0;34m(\u001b[0m\u001b[0;34m)\u001b[0m\u001b[0;34m\u001b[0m\u001b[0;34m\u001b[0m\u001b[0m\n\u001b[1;32m      2\u001b[0m \u001b[0;32mfor\u001b[0m \u001b[0mcol\u001b[0m \u001b[0;32min\u001b[0m \u001b[0mvaluenum_columns\u001b[0m\u001b[0;34m:\u001b[0m\u001b[0;34m\u001b[0m\u001b[0;34m\u001b[0m\u001b[0m\n\u001b[0;32m----> 3\u001b[0;31m     \u001b[0mdf_filled\u001b[0m\u001b[0;34m[\u001b[0m\u001b[0mcol\u001b[0m\u001b[0;34m]\u001b[0m \u001b[0;34m=\u001b[0m \u001b[0mdf_filled\u001b[0m\u001b[0;34m[\u001b[0m\u001b[0mcol\u001b[0m\u001b[0;34m]\u001b[0m\u001b[0;34m.\u001b[0m\u001b[0mfillna\u001b[0m\u001b[0;34m(\u001b[0m\u001b[0mcolumn_means\u001b[0m\u001b[0;34m[\u001b[0m\u001b[0mcol\u001b[0m\u001b[0;34m]\u001b[0m\u001b[0;34m)\u001b[0m\u001b[0;34m\u001b[0m\u001b[0;34m\u001b[0m\u001b[0m\n\u001b[0m",
            "\u001b[0;32m/usr/local/lib/python3.11/dist-packages/pandas/core/frame.py\u001b[0m in \u001b[0;36m__getitem__\u001b[0;34m(self, key)\u001b[0m\n\u001b[1;32m   4100\u001b[0m             \u001b[0;32mif\u001b[0m \u001b[0mself\u001b[0m\u001b[0;34m.\u001b[0m\u001b[0mcolumns\u001b[0m\u001b[0;34m.\u001b[0m\u001b[0mnlevels\u001b[0m \u001b[0;34m>\u001b[0m \u001b[0;36m1\u001b[0m\u001b[0;34m:\u001b[0m\u001b[0;34m\u001b[0m\u001b[0;34m\u001b[0m\u001b[0m\n\u001b[1;32m   4101\u001b[0m                 \u001b[0;32mreturn\u001b[0m \u001b[0mself\u001b[0m\u001b[0;34m.\u001b[0m\u001b[0m_getitem_multilevel\u001b[0m\u001b[0;34m(\u001b[0m\u001b[0mkey\u001b[0m\u001b[0;34m)\u001b[0m\u001b[0;34m\u001b[0m\u001b[0;34m\u001b[0m\u001b[0m\n\u001b[0;32m-> 4102\u001b[0;31m             \u001b[0mindexer\u001b[0m \u001b[0;34m=\u001b[0m \u001b[0mself\u001b[0m\u001b[0;34m.\u001b[0m\u001b[0mcolumns\u001b[0m\u001b[0;34m.\u001b[0m\u001b[0mget_loc\u001b[0m\u001b[0;34m(\u001b[0m\u001b[0mkey\u001b[0m\u001b[0;34m)\u001b[0m\u001b[0;34m\u001b[0m\u001b[0;34m\u001b[0m\u001b[0m\n\u001b[0m\u001b[1;32m   4103\u001b[0m             \u001b[0;32mif\u001b[0m \u001b[0mis_integer\u001b[0m\u001b[0;34m(\u001b[0m\u001b[0mindexer\u001b[0m\u001b[0;34m)\u001b[0m\u001b[0;34m:\u001b[0m\u001b[0;34m\u001b[0m\u001b[0;34m\u001b[0m\u001b[0m\n\u001b[1;32m   4104\u001b[0m                 \u001b[0mindexer\u001b[0m \u001b[0;34m=\u001b[0m \u001b[0;34m[\u001b[0m\u001b[0mindexer\u001b[0m\u001b[0;34m]\u001b[0m\u001b[0;34m\u001b[0m\u001b[0;34m\u001b[0m\u001b[0m\n",
            "\u001b[0;32m/usr/local/lib/python3.11/dist-packages/pandas/core/indexes/base.py\u001b[0m in \u001b[0;36mget_loc\u001b[0;34m(self, key)\u001b[0m\n\u001b[1;32m   3810\u001b[0m             ):\n\u001b[1;32m   3811\u001b[0m                 \u001b[0;32mraise\u001b[0m \u001b[0mInvalidIndexError\u001b[0m\u001b[0;34m(\u001b[0m\u001b[0mkey\u001b[0m\u001b[0;34m)\u001b[0m\u001b[0;34m\u001b[0m\u001b[0;34m\u001b[0m\u001b[0m\n\u001b[0;32m-> 3812\u001b[0;31m             \u001b[0;32mraise\u001b[0m \u001b[0mKeyError\u001b[0m\u001b[0;34m(\u001b[0m\u001b[0mkey\u001b[0m\u001b[0;34m)\u001b[0m \u001b[0;32mfrom\u001b[0m \u001b[0merr\u001b[0m\u001b[0;34m\u001b[0m\u001b[0;34m\u001b[0m\u001b[0m\n\u001b[0m\u001b[1;32m   3813\u001b[0m         \u001b[0;32mexcept\u001b[0m \u001b[0mTypeError\u001b[0m\u001b[0;34m:\u001b[0m\u001b[0;34m\u001b[0m\u001b[0;34m\u001b[0m\u001b[0m\n\u001b[1;32m   3814\u001b[0m             \u001b[0;31m# If we have a listlike key, _check_indexing_error will raise\u001b[0m\u001b[0;34m\u001b[0m\u001b[0;34m\u001b[0m\u001b[0m\n",
            "\u001b[0;31mKeyError\u001b[0m: '50800_VALUENUM'"
          ]
        }
      ]
    },
    {
      "cell_type": "code",
      "source": [
        "df_filtered.to_csv('filtered_cols.csv', index=False)"
      ],
      "metadata": {
        "id": "w45OBkK4fIWL"
      },
      "execution_count": 15,
      "outputs": []
    },
    {
      "cell_type": "code",
      "source": [],
      "metadata": {
        "id": "B-APcy26gAV8"
      },
      "execution_count": null,
      "outputs": []
    }
  ]
}